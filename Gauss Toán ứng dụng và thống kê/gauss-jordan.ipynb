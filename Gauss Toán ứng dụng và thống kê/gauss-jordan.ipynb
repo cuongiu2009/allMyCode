{
  "cells": [
    {
      "cell_type": "code",
      "execution_count": 1,
      "metadata": {
        "id": "UuneaxuVVXNW"
      },
      "outputs": [],
      "source": [
        "import numpy as np\n",
        "import copy"
      ]
    },
    {
      "cell_type": "code",
      "execution_count": 2,
      "metadata": {},
      "outputs": [],
      "source": [
        "def inputMatrix():\n",
        "    n=int(input())\n",
        "    a = np.array([[float(input()) for j in range(n)] for i in range(n)])\n",
        "    b=np.eye(n)\n",
        "    #nhap ma tran\n",
        "    return a,b,n"
      ]
    },
    {
      "cell_type": "code",
      "execution_count": 3,
      "metadata": {},
      "outputs": [],
      "source": [
        "def determinant_recursive(A, total=0):\n",
        "    # Section 1: store indices in list for row referencing\n",
        "    indices = list(range(len(A)))\n",
        "     \n",
        "    # Section 2: when at 2x2 submatrices recursive calls end\n",
        "    if len(A) == 2 and len(A[0]) == 2:\n",
        "        val = A[0][0] * A[1][1] - A[1][0] * A[0][1]\n",
        "        return val\n",
        " \n",
        "    # Section 3: define submatrix for focus column and \n",
        "    #      call this function\n",
        "    for fc in indices: # A) for each focus column, ...\n",
        "        # find the submatrix ...\n",
        "        As = copy.deepcopy(A) # B) make a copy, and ...\n",
        "        As = As[1:] # ... C) remove the first row\n",
        "        height = len(As) # D) \n",
        " \n",
        "        for i in range(height): \n",
        "            # E) for each remaining row of submatrix ...\n",
        "            #     remove the focus column elements\n",
        "            As[i] = As[i][0:fc] + As[i][fc+1:] \n",
        " \n",
        "        sign = (-1) ** (fc % 2) # F) \n",
        "        # G) pass submatrix recursively\n",
        "        sub_det = determinant_recursive(As)\n",
        "        # H) total all returns from recursion\n",
        "        total += sign * A[0][fc] * sub_det \n",
        " \n",
        "    return total"
      ]
    },
    {
      "cell_type": "code",
      "execution_count": 4,
      "metadata": {
        "id": "Bi_xjWtrJJiU"
      },
      "outputs": [],
      "source": [
        "def gauss_Jordan_eliminate(a, b, n):\n",
        "    for k in range(n):\n",
        "        if np.fabs(a[k,k]) < 1.0e-12:\n",
        "            for i in range(k+1,n):\n",
        "                if np.fabs(a[i,k]) > np.fabs(a[k,k]):\n",
        "                    for j in range(k,n):\n",
        "                        a[k,j],a[i,j]=a[i,j],a[k,j]\n",
        "                    b[k],b[i] = b[i],b[k]\n",
        "                    break\n",
        "        pivot=a[k,k]\n",
        "        if pivot==0:\n",
        "            print(\"Irreverse!!!\")\n",
        "            break\n",
        "        for j in range(k,n):\n",
        "            a[k,j]/=pivot\n",
        "        b[k]/=pivot\n",
        "        for i in range(n):\n",
        "            if i==k or a[i,k]==0:\n",
        "                continue\n",
        "            else:\n",
        "                factor=a[i,k]\n",
        "                for j in range(k,n):\n",
        "                    a[i,j]-=factor*a[k,j]\n",
        "                b[i]-=factor*b[k]\n",
        "    return b\n",
        "\n"
      ]
    },
    {
      "cell_type": "code",
      "execution_count": 5,
      "metadata": {},
      "outputs": [
        {
          "name": "stdout",
          "output_type": "stream",
          "text": [
            "Matrix A:\n",
            " [[ 1.  2.  5.]\n",
            " [-2.  0.  1.]\n",
            " [ 3.  1. -4.]]\n",
            "Inverse matrix:\n"
          ]
        },
        {
          "data": {
            "text/plain": [
              "array([[ 0.04761905, -0.61904762, -0.0952381 ],\n",
              "       [ 0.23809524,  0.9047619 ,  0.52380952],\n",
              "       [ 0.0952381 , -0.23809524, -0.19047619]])"
            ]
          },
          "execution_count": 5,
          "metadata": {},
          "output_type": "execute_result"
        }
      ],
      "source": [
        "a,b,n=inputMatrix()\n",
        "print(\"Matrix A:\\n\",a)\n",
        "print(\"Inverse matrix:\")\n",
        "gauss_Jordan_eliminate(a,b,n)\n"
      ]
    }
  ],
  "metadata": {
    "colab": {
      "collapsed_sections": [],
      "name": "20127142.ipynb",
      "provenance": []
    },
    "interpreter": {
      "hash": "a65a8174519c45f91d592b0639568d146986ffbed4ba25b07bc8cabe85a1bd46"
    },
    "kernelspec": {
      "display_name": "Python 3.10.4 64-bit",
      "language": "python",
      "name": "python3"
    },
    "language_info": {
      "codemirror_mode": {
        "name": "ipython",
        "version": 3
      },
      "file_extension": ".py",
      "mimetype": "text/x-python",
      "name": "python",
      "nbconvert_exporter": "python",
      "pygments_lexer": "ipython3",
      "version": "3.10.4"
    }
  },
  "nbformat": 4,
  "nbformat_minor": 0
}
