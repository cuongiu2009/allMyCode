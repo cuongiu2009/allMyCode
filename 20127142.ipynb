{
  "cells": [
    {
      "cell_type": "code",
      "execution_count": 1,
      "metadata": {
        "id": "UuneaxuVVXNW"
      },
      "outputs": [],
      "source": [
        "from numpy import array, zeros, fabs\n",
        "import math\n",
        "import numpy as np"
      ]
    },
    {
      "cell_type": "code",
      "execution_count": 171,
      "metadata": {},
      "outputs": [],
      "source": [
        "# row=int(input())\n",
        "# col=int(input())\n",
        "# a = np.array([[float(input()) for j in range(col)] for i in range(row)])\n",
        "# b = np.array([float(input()) for i in range(row)])\n",
        "# n = len(b)\n",
        "# x = zeros(n,float)\n",
        "# #nhap ma tran"
      ]
    },
    {
      "cell_type": "markdown",
      "metadata": {},
      "source": []
    },
    {
      "cell_type": "code",
      "execution_count": 172,
      "metadata": {
        "id": "EHmAeyziVz5n"
      },
      "outputs": [
        {
          "name": "stdout",
          "output_type": "stream",
          "text": [
            "[[2. 4.]\n",
            " [2. 4.]]\n"
          ]
        }
      ],
      "source": [
        "#array a la he so cua ma tran\n",
        "a=np.array([[2,4],[2,4]],float)\n",
        "b=np.array([0,5],float)\n",
        "#array b la ket qua\n",
        "#vi du \n",
        "#a=([1,2,3],[2,3,1])\n",
        "#b=([3,1])\n",
        "#X1+2X2+3X3=3\n",
        "#2X1+3X2+X3=1\n",
        "n = len(b)\n",
        "x=zeros(n,float) #tao mang chua cac phan tu 0 kieu float\n",
        "print(a)"
      ]
    },
    {
      "cell_type": "code",
      "execution_count": 175,
      "metadata": {
        "id": "Bi_xjWtrJJiU"
      },
      "outputs": [],
      "source": [
        "def gauss_eliminate(a, b):\n",
        "    for k in range(n):\n",
        "        if np.fabs(a[k,k]) < 1.0e-12:\n",
        "            for i in range(k+1,n):\n",
        "                if np.fabs(a[i,k]) > np.fabs(a[k,k]):\n",
        "                    for j in range(k,n):\n",
        "                        a[k,j],a[i,j]=a[i,j],a[k,j]\n",
        "                    b[k],b[i]=b[i],b[k]\n",
        "                    break\n",
        "        for i in range(k+1, len(b)):\n",
        "            if a[i, k] == 0:\n",
        "                continue\n",
        "            factor = a[k, k]/a[i, k] #factor là giá trị để đưa dãy về bậc thang\n",
        "            for j in range(k, len(b)):\n",
        "                a[i, j] = a[k, j]-a[i, j]*factor\n",
        "            b[i] = b[k]-b[i]*factor\n",
        "    print(a)\n",
        "    print(b)"
      ]
    },
    {
      "cell_type": "code",
      "execution_count": 176,
      "metadata": {
        "id": "sGnbsvZQOWBK"
      },
      "outputs": [],
      "source": [
        "def backSub(a,b,x):\n",
        "    x[n-1] = b[n-1]/a[n-1, n-1]\n",
        "    if math.isnan(x[n-1])==True:\n",
        "        print(\"phuong trinh vo nghiem\")\n",
        "    elif math.isinf(x[n-1])==True:\n",
        "        print('phuong trinh vo so nghiem')\n",
        "    else:\n",
        "        for i in range(n-2, -1, -1):\n",
        "            sum = 0\n",
        "            for j in range(i+1, n):\n",
        "                sum += a[i,j]*x[j]\n",
        "            x[i] = (b[i]-sum)/a[i, i]\n",
        "    print(x)"
      ]
    },
    {
      "cell_type": "code",
      "execution_count": 177,
      "metadata": {
        "colab": {
          "base_uri": "https://localhost:8080/"
        },
        "id": "qFdLwcUtOY2I",
        "outputId": "ae37d3b5-21b6-4b87-b7c5-46fc8dd67956"
      },
      "outputs": [],
      "source": [
        "def Solution(a,b,x):\n",
        "    \n",
        "    print('gauss elimination:')\n",
        "    gauss_eliminate(a,b)\n",
        "    print(\"Solution numpy:\")\n",
        "    backSub(a,b,x)\n",
        "#print(checkFunction(a,b))"
      ]
    },
    {
      "cell_type": "code",
      "execution_count": 178,
      "metadata": {},
      "outputs": [
        {
          "name": "stdout",
          "output_type": "stream",
          "text": [
            "gauss elimination:\n",
            "[[2. 4.]\n",
            " [0. 0.]]\n",
            "[ 0. -5.]\n",
            "Solution numpy:\n",
            "phuong trinh vo so nghiem\n",
            "[  0. -inf]\n"
          ]
        },
        {
          "name": "stderr",
          "output_type": "stream",
          "text": [
            "C:\\Users\\KING\\AppData\\Local\\Temp\\ipykernel_5608\\3091643872.py:3: RuntimeWarning: divide by zero encountered in double_scalars\n",
            "  x[n-1] = b[n-1]/a[n-1, n-1]\n"
          ]
        }
      ],
      "source": [
        "Solution(a,b,x)"
      ]
    }
  ],
  "metadata": {
    "colab": {
      "collapsed_sections": [],
      "name": "20127142.ipynb",
      "provenance": []
    },
    "interpreter": {
      "hash": "c432b1d49af7737c0f0526539fcb56e30634e56febef66030e980317d353caaa"
    },
    "kernelspec": {
      "display_name": "Python 3.9.10 64-bit",
      "language": "python",
      "name": "python3"
    },
    "language_info": {
      "codemirror_mode": {
        "name": "ipython",
        "version": 3
      },
      "file_extension": ".py",
      "mimetype": "text/x-python",
      "name": "python",
      "nbconvert_exporter": "python",
      "pygments_lexer": "ipython3",
      "version": "3.9.10"
    }
  },
  "nbformat": 4,
  "nbformat_minor": 0
}
